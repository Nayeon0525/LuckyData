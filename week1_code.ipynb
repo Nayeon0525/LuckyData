{
 "cells": [
  {
   "cell_type": "markdown",
   "metadata": {},
   "source": [
    "# Python Study\n",
    "## week 01\n",
    "> ### Learning Objectives\n",
    "> 1. 함수와 제너레이터의 이해\n",
    "> 2. 람다 함수의 사용 숙달\n",
    "> 3. container 자료형의 응용\n",
    "> 4. 함수의 수학적 이해"
   ]
  },
  {
   "cell_type": "markdown",
   "metadata": {},
   "source": [
    "------------------------------\n",
    "### PBL 1\n",
    "#### 같은 기능을 하는 사용자 정의 함수와 lambda 함수 3가지 만들어보기"
   ]
  },
  {
   "cell_type": "code",
   "execution_count": 1,
   "metadata": {},
   "outputs": [],
   "source": [
    "import numpy as np"
   ]
  },
  {
   "cell_type": "code",
   "execution_count": 2,
   "metadata": {},
   "outputs": [],
   "source": [
    "def plus_func(x, y):\n",
    "    return x + y\n",
    "\n",
    "plus_lam = lambda x, y: x + y\n",
    "\n",
    "def pfsquare_func(a, b):\n",
    "    return (a + b)**2\n",
    "\n",
    "pfsquare_lam = lambda a, b: (a + b)**2\n",
    "\n",
    "def sigmoid_func(x):\n",
    "    return 1 /(1 + np.exp(-x))\n",
    "\n",
    "sigmoid_lam = lambda x: 1/(1 + np.exp(-x))"
   ]
  },
  {
   "cell_type": "code",
   "execution_count": 3,
   "metadata": {},
   "outputs": [],
   "source": [
    "x = 2\n",
    "y = 3\n",
    "a = 1\n",
    "b = 4"
   ]
  },
  {
   "cell_type": "code",
   "execution_count": 4,
   "metadata": {},
   "outputs": [
    {
     "name": "stdout",
     "output_type": "stream",
     "text": [
      "==== Plus ====\n",
      "5\n",
      "5\n",
      "==== Perfect Square ====\n",
      "25\n",
      "25\n",
      "==== Sigmoid ====\n",
      "0.8807970779778823\n",
      "0.8807970779778823\n"
     ]
    }
   ],
   "source": [
    "print(\"==== Plus ====\")\n",
    "print(plus_func(x, y))\n",
    "print(plus_lam(x, y))\n",
    "print(\"==== Perfect Square ====\")\n",
    "print(pfsquare_func(a, b))\n",
    "print(pfsquare_lam(a, b))\n",
    "print(\"==== Sigmoid ====\")\n",
    "print(sigmoid_func(x))\n",
    "print(sigmoid_lam(x))"
   ]
  },
  {
   "cell_type": "markdown",
   "metadata": {},
   "source": [
    "----------------------------\n",
    "### PBL 2\n",
    "#### 생성자 문법을 이용하여 등차수열 등비수열, 기타 규칙의 수열 만들어 보기\n",
    "\n",
    "* generator는 평소에 잘 안 써봤던 개념이었음. 이번 기회에 사용해봐서 좋았다.\n"
   ]
  },
  {
   "cell_type": "markdown",
   "metadata": {},
   "source": [
    "#### Generator\n",
    ": iterator를 생성하는 함수, `yield` 사용"
   ]
  },
  {
   "cell_type": "code",
   "execution_count": 7,
   "metadata": {},
   "outputs": [],
   "source": [
    "# 등차수열\n",
    "\n",
    "def arith_seq(start, step, cnt):\n",
    "    yield start\n",
    "    for i in range(cnt):\n",
    "        start = start + step\n",
    "        yield start"
   ]
  },
  {
   "cell_type": "code",
   "execution_count": 8,
   "metadata": {},
   "outputs": [
    {
     "name": "stdout",
     "output_type": "stream",
     "text": [
      "1\n",
      "3\n",
      "5\n",
      "7\n",
      "9\n",
      "11\n",
      "13\n",
      "15\n",
      "17\n",
      "19\n",
      "21\n"
     ]
    }
   ],
   "source": [
    "a_s = arith_seq(1, 2, 10)\n",
    "\n",
    "for num in a_s:\n",
    "    print(num)"
   ]
  },
  {
   "cell_type": "code",
   "execution_count": 9,
   "metadata": {},
   "outputs": [],
   "source": [
    "# 등비수열\n",
    "\n",
    "def geo_seq(start, time, cnt):\n",
    "    yield start\n",
    "    for i in range(cnt):\n",
    "        start = start * time\n",
    "        yield start"
   ]
  },
  {
   "cell_type": "code",
   "execution_count": 10,
   "metadata": {},
   "outputs": [
    {
     "name": "stdout",
     "output_type": "stream",
     "text": [
      "1\n",
      "2\n",
      "4\n",
      "8\n",
      "16\n",
      "32\n",
      "64\n",
      "128\n",
      "256\n",
      "512\n",
      "1024\n"
     ]
    }
   ],
   "source": [
    "g_s = geo_seq(1, 2, 10)\n",
    "\n",
    "for num in g_s:\n",
    "    print(num)"
   ]
  },
  {
   "cell_type": "code",
   "execution_count": 11,
   "metadata": {},
   "outputs": [],
   "source": [
    "# 피보나치 수열\n",
    "\n",
    "def fibon(cnt):\n",
    "    a = 1\n",
    "    b = 1\n",
    "    \n",
    "    for i in range(cnt):\n",
    "        yield a\n",
    "        tmp = a\n",
    "        a = b\n",
    "        b = tmp + b"
   ]
  },
  {
   "cell_type": "code",
   "execution_count": 13,
   "metadata": {},
   "outputs": [],
   "source": [
    "f = fibon(10)"
   ]
  },
  {
   "cell_type": "code",
   "execution_count": 14,
   "metadata": {},
   "outputs": [
    {
     "name": "stdout",
     "output_type": "stream",
     "text": [
      "1\n",
      "1\n",
      "2\n",
      "3\n",
      "5\n",
      "8\n",
      "13\n",
      "21\n",
      "34\n",
      "55\n"
     ]
    }
   ],
   "source": [
    "for num in f:\n",
    "    print(num)"
   ]
  },
  {
   "cell_type": "markdown",
   "metadata": {},
   "source": [
    "---------------------\n",
    "### PBL 3\n",
    "#### List나 Dict 객체에 함수를 추가하여 if-else 제어문 없이 프로그램의 흐름 제어해보기"
   ]
  },
  {
   "cell_type": "code",
   "execution_count": 15,
   "metadata": {},
   "outputs": [],
   "source": [
    "def plus(x, y):\n",
    "    return x+y\n",
    "\n",
    "def minus(x, y):\n",
    "    return x-y\n",
    "\n",
    "def mult(x, y):\n",
    "    return x*y\n",
    "\n",
    "def div(x, y):\n",
    "    return x/y\n",
    "\n",
    "cal = [plus, minus, mult, div]\n"
   ]
  },
  {
   "cell_type": "code",
   "execution_count": 16,
   "metadata": {},
   "outputs": [
    {
     "name": "stdout",
     "output_type": "stream",
     "text": [
      "plus:  14\n",
      "minus:  -4\n",
      "multiple:  45\n",
      "divide:  0.5555555555555556\n"
     ]
    }
   ],
   "source": [
    "print(\"plus: \", cal[0](5, 9))\n",
    "print(\"minus: \", cal[1](5, 9))\n",
    "print(\"multiple: \", cal[2](5, 9))\n",
    "print(\"divide: \", cal[3](5, 9))"
   ]
  },
  {
   "cell_type": "code",
   "execution_count": null,
   "metadata": {},
   "outputs": [],
   "source": []
  },
  {
   "cell_type": "markdown",
   "metadata": {},
   "source": [
    "-------------------------------\n",
    "### PBL 4\n",
    "#### 전공에서 소개하는 개념을 함수로 만들어보기\n",
    "> 세포 계대배양 시 세포 수 계산\n",
    "> * 세포 계대배양이란  \n",
    ": 세포 배양 시 세포가 증식하면 한정된 접시 내에서 공간과 양분이 부족해진다. 따라서 일정한 세포 수 이상이 되면 마치 이사를 시켜주듯이 접시를 새로 갈아주는 것이다.  \n",
    "여기서 일정한 세포 수를 계산하는 함수를 파이썬을 이용해 만들어보았다.\n",
    "> * dilution coefficient(희석 계수)  \n",
    ": 용액에 대한 트리판블루 용액의 부피비 = 2\n",
    "> * formula  \n",
    ": (W구역(총 4곳)에서 각 세포 개수들의 합)/4 * dilution coefficient * (10 **4)"
   ]
  },
  {
   "cell_type": "code",
   "execution_count": null,
   "metadata": {},
   "outputs": [],
   "source": []
  },
  {
   "cell_type": "code",
   "execution_count": 17,
   "metadata": {},
   "outputs": [],
   "source": [
    "def cell_count(a1, a2, a3, a4):\n",
    "    return ((a1+a2+a3+a4)/4)*2*(10**4)\n",
    "    "
   ]
  },
  {
   "cell_type": "code",
   "execution_count": 18,
   "metadata": {},
   "outputs": [
    {
     "data": {
      "text/plain": [
       "1045000.0"
      ]
     },
     "execution_count": 18,
     "metadata": {},
     "output_type": "execute_result"
    }
   ],
   "source": [
    "cell_count(51,53,48,57)"
   ]
  },
  {
   "cell_type": "code",
   "execution_count": null,
   "metadata": {},
   "outputs": [],
   "source": []
  }
 ],
 "metadata": {
  "kernelspec": {
   "display_name": "Python 3",
   "language": "python",
   "name": "python3"
  },
  "language_info": {
   "codemirror_mode": {
    "name": "ipython",
    "version": 3
   },
   "file_extension": ".py",
   "mimetype": "text/x-python",
   "name": "python",
   "nbconvert_exporter": "python",
   "pygments_lexer": "ipython3",
   "version": "3.7.3"
  }
 },
 "nbformat": 4,
 "nbformat_minor": 4
}
