{
 "cells": [
  {
   "cell_type": "markdown",
   "metadata": {},
   "source": [
    "# Python Study\n",
    "## week 02\n",
    "> ### Learning Objectives\n",
    "> 1. 수학적 계산을 위한 모듈사용 숙달\n",
    "> 2. container 객체의 조합, 변형을 위한 itertools 모듈\n",
    "> 3. 모율이 설치되지 않은 컴퓨터에서도 끝까지 프로그램을 동작시키는 방법에 대한 이해"
   ]
  },
  {
   "cell_type": "markdown",
   "metadata": {},
   "source": [
    "------------------------\n",
    "### PBL 1\n",
    "#### 제시된 모든 코드를 1번씩 수행하기"
   ]
  },
  {
   "cell_type": "markdown",
   "metadata": {},
   "source": [
    "#### 1) `fractions` : 보기 편한 유리수 산술을 위한 모듈, 소수의 정밀도를 높일 때 유용\n",
    "> * numerator : 기약분수의 분자\n",
    "> * denominator : 기약분수의 분모"
   ]
  },
  {
   "cell_type": "code",
   "execution_count": 76,
   "metadata": {},
   "outputs": [
    {
     "name": "stdout",
     "output_type": "stream",
     "text": [
      "4/5\n"
     ]
    }
   ],
   "source": [
    "import fractions as frac\n",
    "\n",
    "numerator = 4\n",
    "denominator = 5\n",
    "\n",
    "variable_A = frac.Fraction(numerator, denominator)\n",
    "print(variable_A)\n",
    "\n"
   ]
  },
  {
   "cell_type": "code",
   "execution_count": 77,
   "metadata": {},
   "outputs": [
    {
     "name": "stdout",
     "output_type": "stream",
     "text": [
      "1/2\n"
     ]
    }
   ],
   "source": [
    "a = frac.Fraction(0.5)\n",
    "print(a)"
   ]
  },
  {
   "cell_type": "code",
   "execution_count": 81,
   "metadata": {},
   "outputs": [
    {
     "name": "stdout",
     "output_type": "stream",
     "text": [
      "0\n"
     ]
    }
   ],
   "source": [
    "a = frac.Fraction()\n",
    "print(a)"
   ]
  },
  {
   "cell_type": "code",
   "execution_count": 80,
   "metadata": {},
   "outputs": [
    {
     "data": {
      "text/plain": [
       "Fraction(31, 10)"
      ]
     },
     "execution_count": 80,
     "metadata": {},
     "output_type": "execute_result"
    }
   ],
   "source": [
    "frac.Fraction(1, 10)+3"
   ]
  },
  {
   "cell_type": "code",
   "execution_count": 84,
   "metadata": {},
   "outputs": [
    {
     "data": {
      "text/plain": [
       "Fraction(1080863910568919, 9007199254740992)"
      ]
     },
     "execution_count": 84,
     "metadata": {},
     "output_type": "execute_result"
    }
   ],
   "source": [
    "a = frac.Fraction(0.12)\n",
    "a"
   ]
  },
  {
   "cell_type": "code",
   "execution_count": 85,
   "metadata": {},
   "outputs": [
    {
     "data": {
      "text/plain": [
       "Fraction(3, 25)"
      ]
     },
     "execution_count": 85,
     "metadata": {},
     "output_type": "execute_result"
    }
   ],
   "source": [
    "a.limit_denominator()"
   ]
  },
  {
   "cell_type": "code",
   "execution_count": 86,
   "metadata": {},
   "outputs": [
    {
     "data": {
      "text/plain": [
       "Fraction(7001485131894523, 9007199254740992)"
      ]
     },
     "execution_count": 86,
     "metadata": {},
     "output_type": "execute_result"
    }
   ],
   "source": [
    "a = frac.Fraction(0.777321)\n",
    "a"
   ]
  },
  {
   "cell_type": "markdown",
   "metadata": {},
   "source": [
    "#### 2) `itertools`: 반복자 객체 연산을 위한 모듈\n",
    "* #### 무한 이터레이터 객체 반환\n",
    "> `cycle` : 전달받은 iterator 객체를 무한히 반복하며 값을 반환하는 cycle 객체를 반환"
   ]
  },
  {
   "cell_type": "code",
   "execution_count": 1,
   "metadata": {},
   "outputs": [
    {
     "data": {
      "text/plain": [
       "1"
      ]
     },
     "execution_count": 1,
     "metadata": {},
     "output_type": "execute_result"
    }
   ],
   "source": [
    "import itertools as iter\n",
    "\n",
    "list_A = [1, 2, 5]\n",
    "cycle_A = iter.cycle(list_A)\n",
    "next(cycle_A)\n"
   ]
  },
  {
   "cell_type": "code",
   "execution_count": 2,
   "metadata": {},
   "outputs": [
    {
     "data": {
      "text/plain": [
       "2"
      ]
     },
     "execution_count": 2,
     "metadata": {},
     "output_type": "execute_result"
    }
   ],
   "source": [
    "next(cycle_A)"
   ]
  },
  {
   "cell_type": "code",
   "execution_count": 3,
   "metadata": {},
   "outputs": [
    {
     "data": {
      "text/plain": [
       "5"
      ]
     },
     "execution_count": 3,
     "metadata": {},
     "output_type": "execute_result"
    }
   ],
   "source": [
    "next(cycle_A)"
   ]
  },
  {
   "cell_type": "code",
   "execution_count": 4,
   "metadata": {},
   "outputs": [
    {
     "data": {
      "text/plain": [
       "1"
      ]
     },
     "execution_count": 4,
     "metadata": {},
     "output_type": "execute_result"
    }
   ],
   "source": [
    "next(cycle_A)"
   ]
  },
  {
   "cell_type": "code",
   "execution_count": 5,
   "metadata": {},
   "outputs": [
    {
     "data": {
      "text/plain": [
       "2"
      ]
     },
     "execution_count": 5,
     "metadata": {},
     "output_type": "execute_result"
    }
   ],
   "source": [
    "next(cycle_A)"
   ]
  },
  {
   "cell_type": "code",
   "execution_count": 6,
   "metadata": {},
   "outputs": [
    {
     "data": {
      "text/plain": [
       "5"
      ]
     },
     "execution_count": 6,
     "metadata": {},
     "output_type": "execute_result"
    }
   ],
   "source": [
    "next(cycle_A)"
   ]
  },
  {
   "cell_type": "markdown",
   "metadata": {},
   "source": [
    "> `repeat(반복할 인자, 반복 한계 횟수)` : 요소 1개를 변화없이 n번, 혹은 끝없이 반환하는 repeat객체를 반환"
   ]
  },
  {
   "cell_type": "code",
   "execution_count": 7,
   "metadata": {},
   "outputs": [
    {
     "data": {
      "text/plain": [
       "10"
      ]
     },
     "execution_count": 7,
     "metadata": {},
     "output_type": "execute_result"
    }
   ],
   "source": [
    "repeater_A = iter.repeat(10, 5)\n",
    "next(repeater_A)"
   ]
  },
  {
   "cell_type": "code",
   "execution_count": 8,
   "metadata": {},
   "outputs": [
    {
     "data": {
      "text/plain": [
       "10"
      ]
     },
     "execution_count": 8,
     "metadata": {},
     "output_type": "execute_result"
    }
   ],
   "source": [
    "next(repeater_A)"
   ]
  },
  {
   "cell_type": "code",
   "execution_count": 9,
   "metadata": {},
   "outputs": [
    {
     "data": {
      "text/plain": [
       "10"
      ]
     },
     "execution_count": 9,
     "metadata": {},
     "output_type": "execute_result"
    }
   ],
   "source": [
    "next(repeater_A)"
   ]
  },
  {
   "cell_type": "code",
   "execution_count": 10,
   "metadata": {},
   "outputs": [
    {
     "data": {
      "text/plain": [
       "10"
      ]
     },
     "execution_count": 10,
     "metadata": {},
     "output_type": "execute_result"
    }
   ],
   "source": [
    "next(repeater_A)"
   ]
  },
  {
   "cell_type": "code",
   "execution_count": 11,
   "metadata": {},
   "outputs": [
    {
     "data": {
      "text/plain": [
       "10"
      ]
     },
     "execution_count": 11,
     "metadata": {},
     "output_type": "execute_result"
    }
   ],
   "source": [
    "next(repeater_A)"
   ]
  },
  {
   "cell_type": "code",
   "execution_count": 12,
   "metadata": {},
   "outputs": [
    {
     "ename": "StopIteration",
     "evalue": "",
     "output_type": "error",
     "traceback": [
      "\u001b[1;31m---------------------------------------------------------------------------\u001b[0m",
      "\u001b[1;31mStopIteration\u001b[0m                             Traceback (most recent call last)",
      "\u001b[1;32m<ipython-input-12-8a6376dbb772>\u001b[0m in \u001b[0;36m<module>\u001b[1;34m\u001b[0m\n\u001b[1;32m----> 1\u001b[1;33m \u001b[0mnext\u001b[0m\u001b[1;33m(\u001b[0m\u001b[0mrepeater_A\u001b[0m\u001b[1;33m)\u001b[0m\u001b[1;33m\u001b[0m\u001b[1;33m\u001b[0m\u001b[0m\n\u001b[0m",
      "\u001b[1;31mStopIteration\u001b[0m: "
     ]
    }
   ],
   "source": [
    "next(repeater_A)"
   ]
  },
  {
   "cell_type": "markdown",
   "metadata": {},
   "source": [
    "> `count(초항, 공차)` : 입력받은 초항을 n의 공차를 두고 무한히 누산하여 반환하는 count 객체 반환"
   ]
  },
  {
   "cell_type": "code",
   "execution_count": 13,
   "metadata": {},
   "outputs": [
    {
     "data": {
      "text/plain": [
       "10"
      ]
     },
     "execution_count": 13,
     "metadata": {},
     "output_type": "execute_result"
    }
   ],
   "source": [
    "counter_A = iter.count(10, 5)\n",
    "next(counter_A)"
   ]
  },
  {
   "cell_type": "code",
   "execution_count": 14,
   "metadata": {},
   "outputs": [
    {
     "data": {
      "text/plain": [
       "15"
      ]
     },
     "execution_count": 14,
     "metadata": {},
     "output_type": "execute_result"
    }
   ],
   "source": [
    "next(counter_A)"
   ]
  },
  {
   "cell_type": "code",
   "execution_count": 15,
   "metadata": {},
   "outputs": [
    {
     "data": {
      "text/plain": [
       "20"
      ]
     },
     "execution_count": 15,
     "metadata": {},
     "output_type": "execute_result"
    }
   ],
   "source": [
    "next(counter_A)"
   ]
  },
  {
   "cell_type": "code",
   "execution_count": 16,
   "metadata": {},
   "outputs": [
    {
     "data": {
      "text/plain": [
       "25"
      ]
     },
     "execution_count": 16,
     "metadata": {},
     "output_type": "execute_result"
    }
   ],
   "source": [
    "next(counter_A)"
   ]
  },
  {
   "cell_type": "markdown",
   "metadata": {},
   "source": [
    "* #### 유한 이터레이터 객체 반환\n",
    "> `accumulate` : 누산기"
   ]
  },
  {
   "cell_type": "code",
   "execution_count": 17,
   "metadata": {},
   "outputs": [
    {
     "data": {
      "text/plain": [
       "<itertools.accumulate at 0x1fb49445a88>"
      ]
     },
     "execution_count": 17,
     "metadata": {},
     "output_type": "execute_result"
    }
   ],
   "source": [
    "a = iter.accumulate([1, 2, 3, 4, 5])\n",
    "a"
   ]
  },
  {
   "cell_type": "code",
   "execution_count": 18,
   "metadata": {},
   "outputs": [
    {
     "data": {
      "text/plain": [
       "1"
      ]
     },
     "execution_count": 18,
     "metadata": {},
     "output_type": "execute_result"
    }
   ],
   "source": [
    "# 1\n",
    "next(a)"
   ]
  },
  {
   "cell_type": "code",
   "execution_count": 19,
   "metadata": {},
   "outputs": [
    {
     "data": {
      "text/plain": [
       "3"
      ]
     },
     "execution_count": 19,
     "metadata": {},
     "output_type": "execute_result"
    }
   ],
   "source": [
    "# 1+2\n",
    "next(a)"
   ]
  },
  {
   "cell_type": "code",
   "execution_count": 20,
   "metadata": {},
   "outputs": [
    {
     "data": {
      "text/plain": [
       "6"
      ]
     },
     "execution_count": 20,
     "metadata": {},
     "output_type": "execute_result"
    }
   ],
   "source": [
    "# 1+2+3\n",
    "next(a)"
   ]
  },
  {
   "cell_type": "code",
   "execution_count": 21,
   "metadata": {},
   "outputs": [
    {
     "data": {
      "text/plain": [
       "10"
      ]
     },
     "execution_count": 21,
     "metadata": {},
     "output_type": "execute_result"
    }
   ],
   "source": [
    "# 1+2+3+4\n",
    "next(a)"
   ]
  },
  {
   "cell_type": "code",
   "execution_count": 22,
   "metadata": {},
   "outputs": [
    {
     "data": {
      "text/plain": [
       "15"
      ]
     },
     "execution_count": 22,
     "metadata": {},
     "output_type": "execute_result"
    }
   ],
   "source": [
    "# 1+2+3+4+5\n",
    "next(a)"
   ]
  },
  {
   "cell_type": "code",
   "execution_count": 23,
   "metadata": {},
   "outputs": [
    {
     "ename": "StopIteration",
     "evalue": "",
     "output_type": "error",
     "traceback": [
      "\u001b[1;31m---------------------------------------------------------------------------\u001b[0m",
      "\u001b[1;31mStopIteration\u001b[0m                             Traceback (most recent call last)",
      "\u001b[1;32m<ipython-input-23-15841f3f11d4>\u001b[0m in \u001b[0;36m<module>\u001b[1;34m\u001b[0m\n\u001b[1;32m----> 1\u001b[1;33m \u001b[0mnext\u001b[0m\u001b[1;33m(\u001b[0m\u001b[0ma\u001b[0m\u001b[1;33m)\u001b[0m\u001b[1;33m\u001b[0m\u001b[1;33m\u001b[0m\u001b[0m\n\u001b[0m",
      "\u001b[1;31mStopIteration\u001b[0m: "
     ]
    }
   ],
   "source": [
    "# list의 모든 요소를 누산\n",
    "next(a)"
   ]
  },
  {
   "cell_type": "markdown",
   "metadata": {},
   "source": [
    "> `chain` : 값 연결\n",
    "> * `chain.from_iterable`: 반복객체 안의 모든 요소를 연결\n"
   ]
  },
  {
   "cell_type": "code",
   "execution_count": 24,
   "metadata": {},
   "outputs": [
    {
     "data": {
      "text/plain": [
       "[1, 2, 3, 4, 5, 'a', 'b', 'c', 'd', 'e']"
      ]
     },
     "execution_count": 24,
     "metadata": {},
     "output_type": "execute_result"
    }
   ],
   "source": [
    "a = iter.chain([1, 2, 3, 4, 5], \"abcde\")\n",
    "list(a)"
   ]
  },
  {
   "cell_type": "code",
   "execution_count": 34,
   "metadata": {},
   "outputs": [],
   "source": [
    "a = iter.chain.from_iterable([[1, 2, 3], \"ABC\", (45, 56, 67)])\n",
    "a = list(a)"
   ]
  },
  {
   "cell_type": "markdown",
   "metadata": {},
   "source": [
    "> `compress` : 앞의 반복객체에서 필요한 것만을 가져옴"
   ]
  },
  {
   "cell_type": "code",
   "execution_count": 36,
   "metadata": {},
   "outputs": [],
   "source": [
    "import random as rd"
   ]
  },
  {
   "cell_type": "code",
   "execution_count": 37,
   "metadata": {},
   "outputs": [
    {
     "data": {
      "text/plain": [
       "[1, 2, 3, 'A', 'B', 'C', 45, 56, 67]"
      ]
     },
     "execution_count": 37,
     "metadata": {},
     "output_type": "execute_result"
    }
   ],
   "source": [
    "randTF = [rd.randint(0, 1) for i in range(len(list(a)))]\n",
    "a"
   ]
  },
  {
   "cell_type": "code",
   "execution_count": 38,
   "metadata": {},
   "outputs": [
    {
     "data": {
      "text/plain": [
       "[0, 0, 1, 1, 1, 1, 0, 1, 1]"
      ]
     },
     "execution_count": 38,
     "metadata": {},
     "output_type": "execute_result"
    }
   ],
   "source": [
    "randTF"
   ]
  },
  {
   "cell_type": "code",
   "execution_count": 39,
   "metadata": {},
   "outputs": [
    {
     "data": {
      "text/plain": [
       "[3, 'A', 'B', 'C', 56, 67]"
      ]
     },
     "execution_count": 39,
     "metadata": {},
     "output_type": "execute_result"
    }
   ],
   "source": [
    "b = iter.compress(a, randTF)\n",
    "list(b)"
   ]
  },
  {
   "cell_type": "markdown",
   "metadata": {},
   "source": [
    "> `dropwhile` : 조건이 실패할 때부터 값을 가져옴"
   ]
  },
  {
   "cell_type": "code",
   "execution_count": 40,
   "metadata": {},
   "outputs": [
    {
     "data": {
      "text/plain": [
       "['A', 'B', 'C', 45, 56, 67]"
      ]
     },
     "execution_count": 40,
     "metadata": {},
     "output_type": "execute_result"
    }
   ],
   "source": [
    "a = [1, 2, 3, 'A', 'B', 'C', 45, 56, 67]\n",
    "func = lambda x: type(x) ==int\n",
    "b = list(iter.dropwhile(func, a))\n",
    "b"
   ]
  },
  {
   "cell_type": "markdown",
   "metadata": {},
   "source": [
    "> `filterfalse` : filter함수의 정반대 조건식에서 False인 것"
   ]
  },
  {
   "cell_type": "code",
   "execution_count": 42,
   "metadata": {},
   "outputs": [
    {
     "data": {
      "text/plain": [
       "['A', 'B', 'C']"
      ]
     },
     "execution_count": 42,
     "metadata": {},
     "output_type": "execute_result"
    }
   ],
   "source": [
    "a = [1, 2, 3, 'A', 'B', 'C', 45, 56, 67]\n",
    "b = list(iter.filterfalse(lambda x: type(x) == int, a)) # a에 int형이 아닌것\n",
    "b\n"
   ]
  },
  {
   "cell_type": "markdown",
   "metadata": {},
   "source": [
    "> `groupby` : 문자열 등에서 연속된 데이터끼리 묶어서 반환"
   ]
  },
  {
   "cell_type": "code",
   "execution_count": 44,
   "metadata": {},
   "outputs": [
    {
     "name": "stdout",
     "output_type": "stream",
     "text": [
      "[('A', <itertools._grouper object at 0x000001FB4A00AC08>),\n",
      " ('B', <itertools._grouper object at 0x000001FB4A02CA88>),\n",
      " ('C', <itertools._grouper object at 0x000001FB4A02CAC8>),\n",
      " ('D', <itertools._grouper object at 0x000001FB4A02C788>),\n",
      " ('A', <itertools._grouper object at 0x000001FB4A02CE48>),\n",
      " ('B', <itertools._grouper object at 0x000001FB4A02C548>),\n",
      " ('C', <itertools._grouper object at 0x000001FB494A4308>),\n",
      " ('a', <itertools._grouper object at 0x000001FB494A40C8>),\n",
      " ('b', <itertools._grouper object at 0x000001FB494A4B48>),\n",
      " ('e', <itertools._grouper object at 0x000001FB494A4C88>),\n",
      " ('f', <itertools._grouper object at 0x000001FB494A49C8>)]\n"
     ]
    }
   ],
   "source": [
    "from pprint import pprint # pprint = pretty print\n",
    "\n",
    "c = \"AAABBCCDDDDDABCaaabbbeeef\"\n",
    "d = list(iter.groupby(c))\n",
    "pprint(d)"
   ]
  },
  {
   "cell_type": "code",
   "execution_count": 45,
   "metadata": {},
   "outputs": [
    {
     "name": "stdout",
     "output_type": "stream",
     "text": [
      "[[], [], [], [], [], [], [], [], [], [], []]\n"
     ]
    }
   ],
   "source": [
    "e = list(map(lambda x:list(x[1]), d))\n",
    "pprint(e)"
   ]
  },
  {
   "cell_type": "markdown",
   "metadata": {},
   "source": [
    "> `starmap` : 함수의 인자로 뒤에 따라오는 객체의 내부에 있는 iter객체들을 unpack항 집어넣음. "
   ]
  },
  {
   "cell_type": "code",
   "execution_count": 46,
   "metadata": {},
   "outputs": [
    {
     "name": "stdout",
     "output_type": "stream",
     "text": [
      "[(1, 5),\n",
      " (10, 10),\n",
      " (9, 7),\n",
      " (6, 8),\n",
      " (8, 10),\n",
      " (5, 5),\n",
      " (2, 1),\n",
      " (8, 7),\n",
      " (8, 7),\n",
      " (6, 9),\n",
      " (1, 4),\n",
      " (7, 9),\n",
      " (7, 2),\n",
      " (4, 10),\n",
      " (7, 6),\n",
      " (10, 3),\n",
      " (9, 2),\n",
      " (2, 4),\n",
      " (8, 5),\n",
      " (1, 4)]\n"
     ]
    }
   ],
   "source": [
    "ba = [(rd.randint(1, 10), rd.randint(1, 10)) for i in range(20)]\n",
    "pprint(ba)"
   ]
  },
  {
   "cell_type": "code",
   "execution_count": 47,
   "metadata": {},
   "outputs": [
    {
     "data": {
      "text/plain": [
       "20"
      ]
     },
     "execution_count": 47,
     "metadata": {},
     "output_type": "execute_result"
    }
   ],
   "source": [
    "len(ba)"
   ]
  },
  {
   "cell_type": "code",
   "execution_count": 48,
   "metadata": {},
   "outputs": [
    {
     "data": {
      "text/plain": [
       "[36,\n",
       " 400,\n",
       " 256,\n",
       " 196,\n",
       " 324,\n",
       " 100,\n",
       " 9,\n",
       " 225,\n",
       " 225,\n",
       " 225,\n",
       " 25,\n",
       " 256,\n",
       " 81,\n",
       " 196,\n",
       " 169,\n",
       " 169,\n",
       " 121,\n",
       " 36,\n",
       " 169,\n",
       " 25]"
      ]
     },
     "execution_count": 48,
     "metadata": {},
     "output_type": "execute_result"
    }
   ],
   "source": [
    "dc = list(iter.starmap(lambda x, y: x**2+2*x*y+y**2, ba))\n",
    "dc"
   ]
  },
  {
   "cell_type": "markdown",
   "metadata": {},
   "source": [
    "> `takewhile` : 조건과 다를 때까지의 값을 가져옴"
   ]
  },
  {
   "cell_type": "code",
   "execution_count": 49,
   "metadata": {},
   "outputs": [
    {
     "data": {
      "text/plain": [
       "[36, 400, 256]"
      ]
     },
     "execution_count": 49,
     "metadata": {},
     "output_type": "execute_result"
    }
   ],
   "source": [
    "fe = list((iter.takewhile(lambda x: x%7, dc)))\n",
    "fe\n",
    "# 7의 배수가 나오면 반환을 멈춤."
   ]
  },
  {
   "cell_type": "markdown",
   "metadata": {},
   "source": [
    "> `tee(반복할 것, n)` : n개의 iter 객체를 만들어 반환"
   ]
  },
  {
   "cell_type": "code",
   "execution_count": 50,
   "metadata": {},
   "outputs": [
    {
     "name": "stdout",
     "output_type": "stream",
     "text": [
      "36\t400\t256\t196\t324\t100\t9\t225\t225\t225\n",
      "25\t256\t81\t196\t169\t169\t121\t36\t169\t25\n",
      "\n",
      "36\t400\t256\t196\t324\t100\t9\t225\t225\t225\n",
      "25\t256\t81\t196\t169\t169\t121\t36\t169\t25\n",
      "\n",
      "36\t400\t256\t196\t324\t100\t9\t225\t225\t225\n",
      "25\t256\t81\t196\t169\t169\t121\t36\t169\t25\n",
      "\n"
     ]
    }
   ],
   "source": [
    "t = list(map(list, iter.tee(dc, 3)))\n",
    "for i in t: \n",
    "    for j in range(len(i)):\n",
    "        if j%10 == 9:\n",
    "            print(i[j])\n",
    "        else:\n",
    "            print(i[j], end='\\t')\n",
    "    print()"
   ]
  },
  {
   "cell_type": "markdown",
   "metadata": {},
   "source": [
    "> `zip_longest` : zip 함수는 짧을것 기준인데 반해 zip_longest는 그에 반대(긴 것에 맞춤)"
   ]
  },
  {
   "cell_type": "code",
   "execution_count": 51,
   "metadata": {},
   "outputs": [
    {
     "data": {
      "text/plain": [
       "[('A', 1),\n",
       " ('B', 2),\n",
       " ('C', 3),\n",
       " ('D', 4),\n",
       " ('E', 5),\n",
       " ('F', None),\n",
       " ('G', None),\n",
       " ('H', None)]"
      ]
     },
     "execution_count": 51,
     "metadata": {},
     "output_type": "execute_result"
    }
   ],
   "source": [
    "# zip_longest\n",
    "xo = list(iter.zip_longest(\"ABCDEFGH\", [1, 2, 3, 4, 5]))\n",
    "xo"
   ]
  },
  {
   "cell_type": "code",
   "execution_count": 55,
   "metadata": {},
   "outputs": [
    {
     "data": {
      "text/plain": [
       "[('A', 1), ('B', 2), ('C', 3), ('D', 4), ('E', 5)]"
      ]
     },
     "execution_count": 55,
     "metadata": {},
     "output_type": "execute_result"
    }
   ],
   "source": [
    "# zip\n",
    "ox = list(zip(\"ABCDEFGH\", list(range(1, 6))))\n",
    "ox"
   ]
  },
  {
   "cell_type": "code",
   "execution_count": 52,
   "metadata": {},
   "outputs": [
    {
     "name": "stdout",
     "output_type": "stream",
     "text": [
      "[1, 2, 3, 4, 5]\n"
     ]
    }
   ],
   "source": [
    "print(list(range(1, 6)))"
   ]
  },
  {
   "cell_type": "code",
   "execution_count": 53,
   "metadata": {},
   "outputs": [
    {
     "name": "stdout",
     "output_type": "stream",
     "text": [
      "[2, 3, 4]\n"
     ]
    }
   ],
   "source": [
    "print(list(range(2, 5)))"
   ]
  },
  {
   "cell_type": "code",
   "execution_count": null,
   "metadata": {},
   "outputs": [],
   "source": []
  },
  {
   "cell_type": "markdown",
   "metadata": {},
   "source": [
    "* #### 조합 이터레이터\n",
    "> `product`: 인자로 입력한 iter들의 데카르트곱(중첩 for문과 같음)"
   ]
  },
  {
   "cell_type": "code",
   "execution_count": 57,
   "metadata": {},
   "outputs": [
    {
     "data": {
      "text/plain": [
       "[('A', 1),\n",
       " ('A', 2),\n",
       " ('A', 3),\n",
       " ('B', 1),\n",
       " ('B', 2),\n",
       " ('B', 3),\n",
       " ('C', 1),\n",
       " ('C', 2),\n",
       " ('C', 3),\n",
       " ('D', 1),\n",
       " ('D', 2),\n",
       " ('D', 3)]"
      ]
     },
     "execution_count": 57,
     "metadata": {},
     "output_type": "execute_result"
    }
   ],
   "source": [
    "prod = list(iter.product(\"ABCD\", [1, 2, 3]))\n",
    "prod"
   ]
  },
  {
   "cell_type": "markdown",
   "metadata": {},
   "source": [
    "> `permutations(iter 객체)` : **순열**의 모든 경우의 수, dtype=튜플, 중복 허용X "
   ]
  },
  {
   "cell_type": "code",
   "execution_count": 58,
   "metadata": {},
   "outputs": [
    {
     "name": "stdout",
     "output_type": "stream",
     "text": [
      "[('A', 'B', 'C', 'D'),\n",
      " ('A', 'B', 'D', 'C'),\n",
      " ('A', 'C', 'B', 'D'),\n",
      " ('A', 'C', 'D', 'B'),\n",
      " ('A', 'D', 'B', 'C'),\n",
      " ('A', 'D', 'C', 'B'),\n",
      " ('B', 'A', 'C', 'D'),\n",
      " ('B', 'A', 'D', 'C'),\n",
      " ('B', 'C', 'A', 'D'),\n",
      " ('B', 'C', 'D', 'A'),\n",
      " ('B', 'D', 'A', 'C'),\n",
      " ('B', 'D', 'C', 'A'),\n",
      " ('C', 'A', 'B', 'D'),\n",
      " ('C', 'A', 'D', 'B'),\n",
      " ('C', 'B', 'A', 'D'),\n",
      " ('C', 'B', 'D', 'A'),\n",
      " ('C', 'D', 'A', 'B'),\n",
      " ('C', 'D', 'B', 'A'),\n",
      " ('D', 'A', 'B', 'C'),\n",
      " ('D', 'A', 'C', 'B'),\n",
      " ('D', 'B', 'A', 'C'),\n",
      " ('D', 'B', 'C', 'A'),\n",
      " ('D', 'C', 'A', 'B'),\n",
      " ('D', 'C', 'B', 'A')]\n"
     ]
    }
   ],
   "source": [
    "pprint(list(iter.permutations(\"ABCD\")))"
   ]
  },
  {
   "cell_type": "markdown",
   "metadata": {},
   "source": [
    "> `combinations(iter객체, n)`: n개를 뽑는 **조합**의 모든 경우의 수  \n",
    "> 객체보다 n값이 큰 경우 반환값 X, 중복 허용 X"
   ]
  },
  {
   "cell_type": "code",
   "execution_count": 59,
   "metadata": {},
   "outputs": [
    {
     "data": {
      "text/plain": [
       "[('A', 'B', 'C'), ('A', 'B', 'D'), ('A', 'C', 'D'), ('B', 'C', 'D')]"
      ]
     },
     "execution_count": 59,
     "metadata": {},
     "output_type": "execute_result"
    }
   ],
   "source": [
    "list(iter.combinations(\"ABCD\", 3))"
   ]
  },
  {
   "cell_type": "markdown",
   "metadata": {},
   "source": [
    "> `combinations_with_replacement` : 객체에서 **중복을 포함**한 n개를 뽑는 모든 **조합**의 경우의 수를 반환, n이 객체 요소 수보다 많더라도 중복을 허용하므로 반환 가능"
   ]
  },
  {
   "cell_type": "code",
   "execution_count": 61,
   "metadata": {},
   "outputs": [
    {
     "name": "stdout",
     "output_type": "stream",
     "text": [
      "[('A', 'A', 'A'),\n",
      " ('A', 'A', 'B'),\n",
      " ('A', 'A', 'C'),\n",
      " ('A', 'A', 'D'),\n",
      " ('A', 'B', 'B'),\n",
      " ('A', 'B', 'C'),\n",
      " ('A', 'B', 'D'),\n",
      " ('A', 'C', 'C'),\n",
      " ('A', 'C', 'D'),\n",
      " ('A', 'D', 'D'),\n",
      " ('B', 'B', 'B'),\n",
      " ('B', 'B', 'C'),\n",
      " ('B', 'B', 'D'),\n",
      " ('B', 'C', 'C'),\n",
      " ('B', 'C', 'D'),\n",
      " ('B', 'D', 'D'),\n",
      " ('C', 'C', 'C'),\n",
      " ('C', 'C', 'D'),\n",
      " ('C', 'D', 'D'),\n",
      " ('D', 'D', 'D')]\n"
     ]
    }
   ],
   "source": [
    "cwr = pprint(list(iter.combinations_with_replacement(\"ABCD\", 3)))"
   ]
  },
  {
   "cell_type": "markdown",
   "metadata": {},
   "source": [
    "---------------------------\n",
    "### PBL 2\n",
    "#### 3가지의 함수를 선정하여 실생활 혹은 전공이나 교양에서 소개하는 개념을 해결하기 "
   ]
  },
  {
   "cell_type": "code",
   "execution_count": 96,
   "metadata": {},
   "outputs": [
    {
     "name": "stdout",
     "output_type": "stream",
     "text": [
      "['abcd']\n",
      "==================================================\n",
      "[('A', 'E'), ('B', 'F'), ('C', 'G'), ('D', 'H')]\n",
      "==================================================\n",
      "[('사과', '사과', '사과', '사과', '사과'),\n",
      " ('사과', '사과', '사과', '사과', '귤'),\n",
      " ('사과', '사과', '사과', '사과', '복숭아'),\n",
      " ('사과', '사과', '사과', '귤', '귤'),\n",
      " ('사과', '사과', '사과', '귤', '복숭아'),\n",
      " ('사과', '사과', '사과', '복숭아', '복숭아'),\n",
      " ('사과', '사과', '귤', '귤', '귤'),\n",
      " ('사과', '사과', '귤', '귤', '복숭아'),\n",
      " ('사과', '사과', '귤', '복숭아', '복숭아'),\n",
      " ('사과', '사과', '복숭아', '복숭아', '복숭아'),\n",
      " ('사과', '귤', '귤', '귤', '귤'),\n",
      " ('사과', '귤', '귤', '귤', '복숭아'),\n",
      " ('사과', '귤', '귤', '복숭아', '복숭아'),\n",
      " ('사과', '귤', '복숭아', '복숭아', '복숭아'),\n",
      " ('사과', '복숭아', '복숭아', '복숭아', '복숭아'),\n",
      " ('귤', '귤', '귤', '귤', '귤'),\n",
      " ('귤', '귤', '귤', '귤', '복숭아'),\n",
      " ('귤', '귤', '귤', '복숭아', '복숭아'),\n",
      " ('귤', '귤', '복숭아', '복숭아', '복숭아'),\n",
      " ('귤', '복숭아', '복숭아', '복숭아', '복숭아'),\n",
      " ('복숭아', '복숭아', '복숭아', '복숭아', '복숭아')]\n",
      "==================================================\n"
     ]
    }
   ],
   "source": [
    "# 숫자만 입력 가능한 비밀번호 칸에 잘못 입력된 비밀번호 찾기\n",
    "password = [1234, 1001, 1999, 4567, 'abcd']\n",
    "pw_false = list(iter.filterfalse(lambda x: type(x) == int, password))\n",
    "print(pw_false)\n",
    "print(\"=\"*50)\n",
    "# 두 줄로 서있는 팀을 짝지어 대결상대 정하기 (사람이 더 많은 팀은 사람이 적은 팀의 대결상대가 다 정해지면 짝을 짓지 못한다)\n",
    "team_A = ['A', 'B', 'C', 'D']\n",
    "team_B = ['E', 'F', 'G', 'H', 'I', 'J', 'K']\n",
    "vs = list(zip(team_A, team_B))\n",
    "print(vs)\n",
    "print(\"=\"*50)\n",
    "# (사과, 귤, 복숭아) 중 총 5개 사오라는 심부름을 받았을 때, 살 수 있는 경우의 수\n",
    "fruit = [\"사과\", \"귤\", \"복숭아\"]\n",
    "pprint(list(iter.combinations_with_replacement(fruit, 5)))\n",
    "print(\"=\"*50)"
   ]
  },
  {
   "cell_type": "code",
   "execution_count": 88,
   "metadata": {},
   "outputs": [
    {
     "name": "stdout",
     "output_type": "stream",
     "text": [
      "[1, 2, 3, 'A', 'B', 'C', 45, 56, 67]\n"
     ]
    }
   ],
   "source": [
    "a = iter.chain.from_iterable([[1, 2, 3], \"ABC\", (45, 56, 67)])\n",
    "a = list(a)\n",
    "print(a)"
   ]
  },
  {
   "cell_type": "markdown",
   "metadata": {},
   "source": [
    "----------------------------\n",
    "### PBL 3\n",
    "#### os모듈의 함수 5가지 조사하기\n",
    "* os 모듈이란?  \n",
    "os는 operating system(운영체계)의 약자로 os모듈은 운영체제에서 제공되는 여러 기능을 파이썬에서 수행할 수 있도록 한다.\n"
   ]
  },
  {
   "cell_type": "code",
   "execution_count": 64,
   "metadata": {},
   "outputs": [],
   "source": [
    "import os"
   ]
  },
  {
   "cell_type": "markdown",
   "metadata": {},
   "source": [
    "> `os.getcwd()` : get current working directory, 현재 디렉토리의 위치를 반환"
   ]
  },
  {
   "cell_type": "code",
   "execution_count": 65,
   "metadata": {},
   "outputs": [
    {
     "data": {
      "text/plain": [
       "'C:\\\\Users\\\\asus\\\\LuckyData'"
      ]
     },
     "execution_count": 65,
     "metadata": {},
     "output_type": "execute_result"
    }
   ],
   "source": [
    "os.getcwd()"
   ]
  },
  {
   "cell_type": "markdown",
   "metadata": {},
   "source": [
    ">  `os.listdir(path)` : path에 있는 파일과 폴더를 리스트로 반환"
   ]
  },
  {
   "cell_type": "code",
   "execution_count": 68,
   "metadata": {},
   "outputs": [
    {
     "data": {
      "text/plain": [
       "['.ipynb_checkpoints', 'python_study', 'ReadMe.md', 'week2_code.ipynb']"
      ]
     },
     "execution_count": 68,
     "metadata": {},
     "output_type": "execute_result"
    }
   ],
   "source": [
    "os.listdir()"
   ]
  },
  {
   "cell_type": "markdown",
   "metadata": {},
   "source": [
    "> `os.chdir(path)` : path로 작업 경로 변경  "
   ]
  },
  {
   "cell_type": "markdown",
   "metadata": {},
   "source": [
    "> `os.path.join()` : 기존 경로와 새로운 폴더 이름을 합쳐 하위 경로 생성"
   ]
  },
  {
   "cell_type": "code",
   "execution_count": 69,
   "metadata": {},
   "outputs": [
    {
     "data": {
      "text/plain": [
       "'C:\\\\Users\\\\asus\\\\LuckyData\\\\assignment'"
      ]
     },
     "execution_count": 69,
     "metadata": {},
     "output_type": "execute_result"
    }
   ],
   "source": [
    "base_dir = os.getcwd()\n",
    "path = os.path.join(base_dir, 'assignment')\n",
    "path"
   ]
  },
  {
   "cell_type": "markdown",
   "metadata": {},
   "source": [
    "> `os.mkdir(path)` : 새로운 폴더 생성"
   ]
  },
  {
   "cell_type": "code",
   "execution_count": 70,
   "metadata": {},
   "outputs": [],
   "source": [
    "os.mkdir(path)"
   ]
  },
  {
   "cell_type": "markdown",
   "metadata": {},
   "source": [
    "> `os.path.isdir(path)` : 경로가 있는지 확인, boolean값으로 반환"
   ]
  },
  {
   "cell_type": "code",
   "execution_count": 71,
   "metadata": {},
   "outputs": [
    {
     "data": {
      "text/plain": [
       "True"
      ]
     },
     "execution_count": 71,
     "metadata": {},
     "output_type": "execute_result"
    }
   ],
   "source": [
    "os.path.isdir(path)"
   ]
  }
 ],
 "metadata": {
  "kernelspec": {
   "display_name": "Python 3",
   "language": "python",
   "name": "python3"
  },
  "language_info": {
   "codemirror_mode": {
    "name": "ipython",
    "version": 3
   },
   "file_extension": ".py",
   "mimetype": "text/x-python",
   "name": "python",
   "nbconvert_exporter": "python",
   "pygments_lexer": "ipython3",
   "version": "3.7.6"
  }
 },
 "nbformat": 4,
 "nbformat_minor": 4
}
